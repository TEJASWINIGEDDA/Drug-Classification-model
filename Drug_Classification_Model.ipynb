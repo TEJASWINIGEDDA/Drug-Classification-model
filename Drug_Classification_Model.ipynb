{
  "nbformat": 4,
  "nbformat_minor": 0,
  "metadata": {
    "colab": {
      "provenance": []
    },
    "kernelspec": {
      "name": "python3",
      "display_name": "Python 3"
    },
    "language_info": {
      "name": "python"
    }
  },
  "cells": [
    {
      "cell_type": "markdown",
      "source": [
        "**DRUG CLASSIFICATION MODEL**"
      ],
      "metadata": {
        "id": "YNf7UW1UtB0a"
      }
    },
    {
      "cell_type": "markdown",
      "source": [
        "**Data Loading**"
      ],
      "metadata": {
        "id": "5Fb4iu3At-WQ"
      }
    },
    {
      "cell_type": "code",
      "source": [
        "import numpy as np\n",
        "import pandas as pd\n",
        "import matplotlib.pyplot as plt\n",
        "import seaborn as sns\n",
        "from sklearn.model_selection import train_test_split\n",
        "from sklearn import metrics"
      ],
      "metadata": {
        "id": "2VSp6zXzrSLJ"
      },
      "execution_count": 38,
      "outputs": []
    },
    {
      "cell_type": "markdown",
      "source": [
        "**Additional Metrics Calculation Function**"
      ],
      "metadata": {
        "id": "z-vRfLehty7l"
      }
    },
    {
      "cell_type": "code",
      "source": [
        "def calculate_additional_metrics(model_name, y_true, y_pred):\n",
        "    precision = metrics.precision_score(y_true, y_pred,average='weighted')\n",
        "    recall = metrics.recall_score(y_true, y_pred,average='weighted')\n",
        "    f1_score = metrics.f1_score(y_true, y_pred,average='weighted')\n",
        "\n",
        "    print(f\"{model_name} - Additional Metrics:\")\n",
        "    print(f\"Precision: {precision}\")\n",
        "    print(f\"Recall: {recall}\")\n",
        "    print(f\"F1-Score: {f1_score}\\n\")"
      ],
      "metadata": {
        "id": "uqoWzuDirn4p"
      },
      "execution_count": 39,
      "outputs": []
    },
    {
      "cell_type": "markdown",
      "source": [],
      "metadata": {
        "id": "9AoxNK0Vt4YK"
      }
    },
    {
      "cell_type": "code",
      "source": [
        "ds=pd.read_csv(\"drug200.csv\")"
      ],
      "metadata": {
        "id": "Z1fiqEKhsHO8"
      },
      "execution_count": 40,
      "outputs": []
    },
    {
      "cell_type": "code",
      "source": [
        "print(\"Description:\\n\",ds.describe())"
      ],
      "metadata": {
        "colab": {
          "base_uri": "https://localhost:8080/"
        },
        "id": "JGdaN8q2sJgS",
        "outputId": "22d02e1b-c304-4304-b366-102a785f46ac"
      },
      "execution_count": 41,
      "outputs": [
        {
          "output_type": "stream",
          "name": "stdout",
          "text": [
            "Description:\n",
            "               Age     Na_to_K\n",
            "count  200.000000  200.000000\n",
            "mean    44.315000   16.084485\n",
            "std     16.544315    7.223956\n",
            "min     15.000000    6.269000\n",
            "25%     31.000000   10.445500\n",
            "50%     45.000000   13.936500\n",
            "75%     58.000000   19.380000\n",
            "max     74.000000   38.247000\n"
          ]
        }
      ]
    },
    {
      "cell_type": "markdown",
      "source": [
        "**Data Exploration and Preprocessing**"
      ],
      "metadata": {
        "id": "CvW9zqOXuDXq"
      }
    },
    {
      "cell_type": "code",
      "source": [
        "print(\"null values:\\n\",ds.isnull().sum())"
      ],
      "metadata": {
        "colab": {
          "base_uri": "https://localhost:8080/"
        },
        "id": "NdTvwePdsMHx",
        "outputId": "14a95d9f-e8ee-477a-b6d1-c97fb7a6edcd"
      },
      "execution_count": 42,
      "outputs": [
        {
          "output_type": "stream",
          "name": "stdout",
          "text": [
            "null values:\n",
            " Age            0\n",
            "Sex            0\n",
            "BP             0\n",
            "Cholesterol    0\n",
            "Na_to_K        0\n",
            "Drug           0\n",
            "dtype: int64\n"
          ]
        }
      ]
    },
    {
      "cell_type": "code",
      "source": [
        "print(\"data:\\n\",ds)"
      ],
      "metadata": {
        "colab": {
          "base_uri": "https://localhost:8080/"
        },
        "id": "hgkKSaYysOeh",
        "outputId": "c5f2eda4-fc0a-4a32-80f8-dac6feb0c506"
      },
      "execution_count": 43,
      "outputs": [
        {
          "output_type": "stream",
          "name": "stdout",
          "text": [
            "data:\n",
            "      Age Sex      BP Cholesterol  Na_to_K   Drug\n",
            "0     23   F    HIGH        HIGH   25.355  drugY\n",
            "1     47   M     LOW        HIGH   13.093  drugC\n",
            "2     47   M     LOW        HIGH   10.114  drugC\n",
            "3     28   F  NORMAL        HIGH    7.798  drugX\n",
            "4     61   F     LOW        HIGH   18.043  drugY\n",
            "..   ...  ..     ...         ...      ...    ...\n",
            "195   56   F     LOW        HIGH   11.567  drugC\n",
            "196   16   M     LOW        HIGH   12.006  drugC\n",
            "197   52   M  NORMAL        HIGH    9.894  drugX\n",
            "198   23   M  NORMAL      NORMAL   14.020  drugX\n",
            "199   40   F     LOW      NORMAL   11.349  drugX\n",
            "\n",
            "[200 rows x 6 columns]\n"
          ]
        }
      ]
    },
    {
      "cell_type": "code",
      "source": [
        "from sklearn import preprocessing\n",
        "sex_encoding=preprocessing.LabelEncoder()\n",
        "ds['Sex'] = sex_encoding.fit_transform(ds['Sex'])\n",
        "BP_encoding=preprocessing.LabelEncoder()\n",
        "ds['BP']=BP_encoding.fit_transform(ds['BP'])\n",
        "Cholesterol_encoding=preprocessing.LabelEncoder()\n",
        "ds['Cholesterol']=Cholesterol_encoding.fit_transform(ds['Cholesterol'])\n",
        "#display the preprocessed dataset\n",
        "print(ds)"
      ],
      "metadata": {
        "colab": {
          "base_uri": "https://localhost:8080/"
        },
        "id": "Ocs4QNcnsQ2Q",
        "outputId": "813638c7-b578-47af-b609-763c40c67459"
      },
      "execution_count": 44,
      "outputs": [
        {
          "output_type": "stream",
          "name": "stdout",
          "text": [
            "     Age  Sex  BP  Cholesterol  Na_to_K   Drug\n",
            "0     23    0   0            0   25.355  drugY\n",
            "1     47    1   1            0   13.093  drugC\n",
            "2     47    1   1            0   10.114  drugC\n",
            "3     28    0   2            0    7.798  drugX\n",
            "4     61    0   1            0   18.043  drugY\n",
            "..   ...  ...  ..          ...      ...    ...\n",
            "195   56    0   1            0   11.567  drugC\n",
            "196   16    1   1            0   12.006  drugC\n",
            "197   52    1   2            0    9.894  drugX\n",
            "198   23    1   2            1   14.020  drugX\n",
            "199   40    0   1            1   11.349  drugX\n",
            "\n",
            "[200 rows x 6 columns]\n"
          ]
        }
      ]
    },
    {
      "cell_type": "markdown",
      "source": [
        "**Train Test Split and Model Training**"
      ],
      "metadata": {
        "id": "aQHpOXeIuLuq"
      }
    },
    {
      "cell_type": "code",
      "source": [
        "xcols=[col for col in ds.columns if col not in ['Drug']]\n",
        "x=ds[xcols]\n",
        "y=ds['Drug']"
      ],
      "metadata": {
        "id": "vJwxj8fRsUIZ"
      },
      "execution_count": 45,
      "outputs": []
    },
    {
      "cell_type": "code",
      "source": [
        "x_train,x_test,y_train,y_test=train_test_split(x,y,test_size=0.3,random_state=3)"
      ],
      "metadata": {
        "id": "MDJJXeFlsWuw"
      },
      "execution_count": 46,
      "outputs": []
    },
    {
      "cell_type": "markdown",
      "source": [
        "**Model Evaluation and Additional Metrics Calculation**"
      ],
      "metadata": {
        "id": "4q-wqrqIuoTB"
      }
    },
    {
      "cell_type": "code",
      "source": [
        "from sklearn.tree import DecisionTreeClassifier\n",
        "dectree=DecisionTreeClassifier()\n",
        "dectree.fit(x_train,y_train)\n",
        "dr_prediction=dectree.predict(x_test)\n",
        "print(\"DecisionTrees's Accuracy: \", metrics.accuracy_score(y_test, dr_prediction))\n",
        "calculate_additional_metrics('Decision Tree', y_test, dr_prediction)"
      ],
      "metadata": {
        "colab": {
          "base_uri": "https://localhost:8080/"
        },
        "id": "QVQ6sMNKsbea",
        "outputId": "6f27689e-6666-4370-99c9-97b97dbba441"
      },
      "execution_count": 47,
      "outputs": [
        {
          "output_type": "stream",
          "name": "stdout",
          "text": [
            "DecisionTrees's Accuracy:  0.9833333333333333\n",
            "Decision Tree - Additional Metrics:\n",
            "Precision: 0.9840579710144927\n",
            "Recall: 0.9833333333333333\n",
            "F1-Score: 0.9833152664859981\n",
            "\n"
          ]
        }
      ]
    },
    {
      "cell_type": "code",
      "source": [
        "from sklearn.ensemble import RandomForestClassifier\n",
        "ranforest = RandomForestClassifier()\n",
        "ranforest.fit(x_train, y_train)\n",
        "rf_prediction= ranforest.predict(x_test)\n",
        "print(\"Random Forest's Accuracy:\", metrics.accuracy_score(y_test, rf_prediction))\n",
        "calculate_additional_metrics('Random Forest', y_test, rf_prediction)"
      ],
      "metadata": {
        "colab": {
          "base_uri": "https://localhost:8080/"
        },
        "id": "rvxElqLMse1J",
        "outputId": "3f337498-3e2d-4b64-cdcf-9193d30a7612"
      },
      "execution_count": 48,
      "outputs": [
        {
          "output_type": "stream",
          "name": "stdout",
          "text": [
            "Random Forest's Accuracy: 0.9833333333333333\n",
            "Random Forest - Additional Metrics:\n",
            "Precision: 0.9840579710144927\n",
            "Recall: 0.9833333333333333\n",
            "F1-Score: 0.9833152664859981\n",
            "\n"
          ]
        }
      ]
    },
    {
      "cell_type": "code",
      "source": [
        "new_patient_data=pd.DataFrame({'Age':[30],'Sex':'F','BP':['NORMAL'],'Cholesterol':['HIGH'],'Na_to_K':[15.0]})"
      ],
      "metadata": {
        "id": "zr2DL3_7sprz"
      },
      "execution_count": 49,
      "outputs": []
    },
    {
      "cell_type": "code",
      "source": [
        "new_patient_data['Sex'] = sex_encoding.fit_transform(new_patient_data['Sex'])\n",
        "new_patient_data['BP'] = BP_encoding.fit_transform(new_patient_data['BP'])\n",
        "new_patient_data['Cholesterol'] = Cholesterol_encoding.fit_transform(new_patient_data['Cholesterol'])\n",
        "print(\"New Patient Data:\")\n",
        "print(new_patient_data)"
      ],
      "metadata": {
        "colab": {
          "base_uri": "https://localhost:8080/"
        },
        "id": "j0WZVERXssJI",
        "outputId": "66a88516-a03c-4bb3-eda1-fdd0bf97469e"
      },
      "execution_count": 50,
      "outputs": [
        {
          "output_type": "stream",
          "name": "stdout",
          "text": [
            "New Patient Data:\n",
            "   Age  Sex  BP  Cholesterol  Na_to_K\n",
            "0   30    0   0            0     15.0\n"
          ]
        }
      ]
    },
    {
      "cell_type": "code",
      "source": [
        "dt_prediction=dectree.predict(new_patient_data)\n",
        "rf_prediction = ranforest.predict(new_patient_data)\n",
        "print(\"\\nPredictions for the New Patient:\")\n",
        "print(\"Decision Tree Prediction:\", dt_prediction[0])\n",
        "print(\"Random Forest Prediction:\", rf_prediction[0])"
      ],
      "metadata": {
        "colab": {
          "base_uri": "https://localhost:8080/"
        },
        "id": "kgioffP6sueR",
        "outputId": "3318e291-1dc1-4aed-e813-b35ba8a41dec"
      },
      "execution_count": 51,
      "outputs": [
        {
          "output_type": "stream",
          "name": "stdout",
          "text": [
            "\n",
            "Predictions for the New Patient:\n",
            "Decision Tree Prediction: drugY\n",
            "Random Forest Prediction: drugY\n"
          ]
        }
      ]
    }
  ]
}